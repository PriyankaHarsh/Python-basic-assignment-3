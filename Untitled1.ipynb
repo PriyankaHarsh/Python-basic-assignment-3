{
 "cells": [
  {
   "cell_type": "markdown",
   "id": "0ee38cbd-3148-4dbe-a198-2e24f65de68b",
   "metadata": {},
   "source": [
    "1. Why are functions advantageous to have in your programs?"
   ]
  },
  {
   "cell_type": "markdown",
   "id": "2ea969b5-d90d-407b-939c-6a6c5fda9f1c",
   "metadata": {},
   "source": [
    " Functions play a crucial role in programming for various reasons:\n",
    "\n",
    "Modularity: They enable breaking down complex code into smaller, more manageable units, making the overall program structure clearer and easier to handle.\n",
    "\n",
    "Code Reusability: Once defined, functions can be used in different parts of a program or even in entirely different programs, promoting efficiency and saving development time.\n",
    "\n",
    "Abstraction: Functions allow focusing on what a specific piece of code accomplishes rather than getting bogged down in the intricate details of how it achieves it. This abstraction simplifies the understanding of the code.\n",
    "\n",
    "Debugging and Testing: Functions aid in isolating and testing specific portions of code, making the debugging process more straightforward and efficient. This is particularly useful for identifying and fixing issues within a confined scope.\n",
    "\n",
    "Scoping: The introduction of local scopes in functions helps manage variable names, preventing conflicts and ensuring a clean separation of concerns within the program.\n",
    "\n",
    "Readability: By breaking down a program into functions with meaningful names and well-defined interfaces, code becomes more readable, making it easier to comprehend and maintain.\n",
    "\n",
    "Parameterization: Functions accept parameters, enabling the creation of flexible and versatile code. Different outcomes can be achieved by passing various values to parameters, eliminating the need for duplicated code.\n",
    "\n",
    "Encapsulation: Functions allow encapsulating functionality, keeping the internal details hidden from the rest of the program. This separation of concerns contributes to cleaner and more maintainable code.\n",
    "\n",
    "Memory Efficiency: Functions help manage memory efficiently by creating and releasing local variables within their scopes, preventing memory leaks and contributing to improved program performance.\n",
    "\n",
    "In essence, functions provide a structured approach to coding, fostering reusability, enhancing readability, and facilitating efficient program development, testing, and maintenance.\n"
   ]
  },
  {
   "cell_type": "markdown",
   "id": "e6fd0713-391a-465e-b66a-ec6815e95907",
   "metadata": {},
   "source": [
    "2. When does the code in a function run: when it&#39;s specified or when it&#39;s called?"
   ]
  },
  {
   "cell_type": "markdown",
   "id": "84ab25b7-589a-40e4-81b5-7bc75a31d734",
   "metadata": {},
   "source": [
    "The code within a function runs when the function is called, not when it is specified or defined.\n",
    "\n",
    "When you define a function in a programming language, you are essentially providing a set of instructions or a block of code that can be executed later in the program. This block of code is not executed until the program explicitly calls or invokes the function.\n",
    "\n",
    "example:\n",
    "\n",
    "def my_function():\n",
    "    print(\"This code is inside the function.\")\n",
    "\n",
    "# The function is defined, but the code inside it hasn't run yet.\n",
    "\n",
    "# Now, we call the function to execute the code inside it.\n",
    "\n",
    "my_function()\n",
    "In this example, the text \"This code is inside the function.\" will be printed only when my_function() is called. Until then, the code inside the function is not executed.\n",
    "\n",
    "So, the key distinction is that the code in a function runs in response to a function call, not at the point of function definition."
   ]
  },
  {
   "cell_type": "markdown",
   "id": "8d132232-0685-4903-b593-10037cc3ac4b",
   "metadata": {},
   "source": [
    "3. What statement creates a function?"
   ]
  },
  {
   "cell_type": "markdown",
   "id": "bce89c6a-168a-4c60-a9cc-75e377f08f01",
   "metadata": {},
   "source": [
    "In Python, the def statement is used to create a function. The syntax is as follows:\n",
    "\n",
    "\n",
    "def function_name(parameters):\n",
    "    # Function code\n",
    "    return result\n",
    "The def keyword signals the start of the function definition, followed by the function name, parameters (if any), and the body of the function, which contains the code to be executed when the function is called.\n"
   ]
  },
  {
   "cell_type": "markdown",
   "id": "72904e5e-60df-472d-9c0d-7bfa33076c95",
   "metadata": {},
   "source": [
    "4. What is the difference between a function and a function call?"
   ]
  },
  {
   "cell_type": "markdown",
   "id": "6d32b0e2-4fa2-40aa-8422-acf480fa814f",
   "metadata": {},
   "source": [
    "Function:\n",
    "\n",
    "Definition: Think of a function as a designated set of instructions, neatly bundled together with a name. It's like a mini-program within your larger codebase. You define it using a specific syntax in the programming language you're using.\n",
    "\n",
    "Example:\n",
    "def add_numbers(a, b):\n",
    "    return a + b\n",
    "    \n",
    "Function Call:\n",
    "\n",
    "Execution: When you want to put those instructions into action, you make a function call. It's like telling the computer, \"Hey, go run that particular set of instructions (the function) I named earlier.\" You use the function's name, possibly provide some values (arguments), and the program executes the code inside that function.\n",
    "\n",
    "Example:\n",
    "result = add_numbers(3, 5)\n",
    "So, in simpler terms, a function is like a recipe, and a function call is when you actually cook using that recipe. The recipe stays the same, but you can use it to make different meals by providing different ingredients (arguments)."
   ]
  },
  {
   "cell_type": "markdown",
   "id": "c4386043-6a5b-452c-83b8-78342a3b11f4",
   "metadata": {},
   "source": [
    "5. How many global scopes are there in a Python program? How many local scopes?"
   ]
  },
  {
   "cell_type": "markdown",
   "id": "12553098-6e21-4841-b28b-79ad63449752",
   "metadata": {},
   "source": [
    "In a Python program, there is typically one global scope and multiple local scopes.\n",
    "\n",
    "Global Scope:\n",
    "\n",
    "There is only one global scope in a Python program.\n",
    "The global scope is where variables and functions that are defined outside of any function or class reside.\n",
    "Variables and functions in the global scope can be accessed from anywhere in the program.\n",
    "Local Scopes:\n",
    "\n",
    "Every time a function is called, a new local scope is created for that function.\n",
    "Each function has its own local scope, which is separate from the global scope.\n",
    "Variables defined inside a function are typically local to that function and are not directly accessible outside of it.\n",
    "Local scopes are also created for control flow statements like loops or conditional statements.\n",
    "Here's a simple illustration:"
   ]
  },
  {
   "cell_type": "code",
   "execution_count": 1,
   "id": "17baf788-6f1d-4a17-9f5e-b1c98dd6f1ee",
   "metadata": {},
   "outputs": [
    {
     "name": "stdout",
     "output_type": "stream",
     "text": [
      "I am in the global scope\n",
      "I am in the local scope of my_function\n"
     ]
    }
   ],
   "source": [
    "global_variable = \"I am in the global scope\"\n",
    "\n",
    "def my_function():\n",
    "    local_variable = \"I am in the local scope of my_function\"\n",
    "    print(global_variable)  # Accessing global variable is possible\n",
    "    print(local_variable)   # Accessing local variable within the function\n",
    "\n",
    "my_function()\n",
    "\n",
    "# Attempting to print local_variable here would result in an error, as it's local to the function.\n"
   ]
  },
  {
   "cell_type": "markdown",
   "id": "76b09499-eba6-4b4e-880e-e1b6dab35cf2",
   "metadata": {},
   "source": [
    "In this example, there is one global scope (global_variable), and when my_function is called, a local scope is created for that function (local_variable)."
   ]
  },
  {
   "cell_type": "markdown",
   "id": "06de1b3d-4980-4ac3-a071-906f4b9dacef",
   "metadata": {},
   "source": [
    "6. What happens to variables in a local scope when the function call returns?"
   ]
  },
  {
   "cell_type": "markdown",
   "id": "dc0df4ea-4f9f-44fd-a133-15bc456fbf1f",
   "metadata": {},
   "source": [
    "When a function call in Python returns, the local scope associated with that function is destroyed. This process is often referred to as the \"scope resolution\" or \"scope cleanup.\" Here's what happens to variables in a local scope when the function call returns:\n",
    "\n",
    "Variable Accessibility: Variables defined within the local scope of the function are only accessible within that function. Once the function call returns, these local variables become inaccessible from outside the function.\n",
    "\n",
    "Memory Deallocation: The memory allocated for local variables in the function's local scope is released. This is an automatic process handled by the Python interpreter. The values stored in local variables are no longer needed once the function completes its execution.\n",
    "\n",
    "Name Reusability: The names of local variables in a function do not conflict with variables in other local scopes or the global scope. Each function call creates a new instance of the local scope with its own set of variables.\n",
    "\n",
    "Here's a simple example to illustrate:"
   ]
  },
  {
   "cell_type": "code",
   "execution_count": 2,
   "id": "6c42f2f7-97be-411a-8e73-bb6bad9e6a11",
   "metadata": {},
   "outputs": [
    {
     "name": "stdout",
     "output_type": "stream",
     "text": [
      "I am in the local scope of my_function\n"
     ]
    }
   ],
   "source": [
    "def my_function():\n",
    "    local_variable = \"I am in the local scope of my_function\"\n",
    "    print(local_variable)\n",
    "\n",
    "my_function()\n",
    "\n",
    "# Attempting to print local_variable here would result in an error,\n",
    "# as the local scope of my_function no longer exists.\n"
   ]
  },
  {
   "cell_type": "markdown",
   "id": "5116e906-ebf3-4296-a82e-621a334a82ec",
   "metadata": {},
   "source": [
    "In this example, once the my_function call completes, the local scope associated with it, including the local_variable, is destroyed, and any attempt to access local_variable outside the function would result in an error."
   ]
  },
  {
   "cell_type": "markdown",
   "id": "50dc18a9-21c5-4276-8cd7-1de3adc83d84",
   "metadata": {},
   "source": [
    "7. What is the concept of a return value? Is it possible to have a return value in an expression?"
   ]
  },
  {
   "cell_type": "markdown",
   "id": "63bf1988-1240-4792-98e1-96301ef435b7",
   "metadata": {},
   "source": [
    "The concept of a return value is fundamental in programming. When a function is executed, it often produces a result or a value. The return statement is used to send this value back to the calling code.\n",
    "\n",
    "Return Value Concept:\n",
    "\n",
    "The return value is the data that a function provides to the part of the program that called it.\n",
    "It allows functions to communicate results or computed values back to the calling code.\n",
    "Functions in many programming languages, including Python, can have a return statement to specify the value they produce.\n",
    "Return Value in an Expression:\n",
    "\n",
    "Yes, a return value can be used in an expression. Once a function returns a value, it can be assigned to a variable, used in calculations, or passed as an argument to another function.\n",
    "\n",
    "Here's an example in Python:"
   ]
  },
  {
   "cell_type": "code",
   "execution_count": 3,
   "id": "b3840d48-95ab-4a5a-ad62-15682bd4f630",
   "metadata": {},
   "outputs": [
    {
     "name": "stdout",
     "output_type": "stream",
     "text": [
      "8\n"
     ]
    }
   ],
   "source": [
    "def add_numbers(a, b):\n",
    "    return a + b\n",
    "\n",
    "result = add_numbers(3, 5)\n",
    "print(result)  # Output: 8\n"
   ]
  },
  {
   "cell_type": "markdown",
   "id": "59e4fa90-4149-4f5f-b975-d932ab02a709",
   "metadata": {},
   "source": [
    "In this example, the add_numbers function returns the sum of its arguments, and the return value (a + b) is used in the expression result = add_numbers(3, 5).\n",
    "\n",
    "Return values are powerful because they allow functions to produce meaningful outcomes that can be utilized in various parts of a program.\n"
   ]
  },
  {
   "cell_type": "markdown",
   "id": "3b6dbe28-955c-4f41-ac1a-9cb181ff67e7",
   "metadata": {},
   "source": [
    "8. If a function does not have a return statement, what is the return value of a call to that function?"
   ]
  },
  {
   "cell_type": "markdown",
   "id": "4b96250f-4b17-4814-8dbd-1128dba1a634",
   "metadata": {},
   "source": [
    "If a function in Python does not have a return statement, or if the return statement is without an expression, the function automatically returns a special value called None. None is a built-in constant in Python representing the absence of a value or a null value.\n",
    "\n",
    "Here's an example:"
   ]
  },
  {
   "cell_type": "code",
   "execution_count": 4,
   "id": "9f6d3261-c8ad-427e-9fe9-e183b7ca0d38",
   "metadata": {},
   "outputs": [
    {
     "name": "stdout",
     "output_type": "stream",
     "text": [
      "This function does not have a return statement\n",
      "None\n"
     ]
    }
   ],
   "source": [
    "def no_return():\n",
    "    print(\"This function does not have a return statement\")\n",
    "\n",
    "result = no_return()\n",
    "print(result)  # Output: None\n"
   ]
  },
  {
   "cell_type": "markdown",
   "id": "57bdb247-73e7-498a-b59e-9e82bf57c6d9",
   "metadata": {},
   "source": [
    "In this example, the no_return function prints a message but does not have a return statement. When you call this function and assign its result to a variable (result), the value of result is None.\n",
    "\n",
    "It's important to note that if a function does not explicitly return a value, Python assumes it returns None by default. If you attempt to use the result of such a function in an expression, it will effectively be working with None."
   ]
  },
  {
   "cell_type": "markdown",
   "id": "cef059c2-e624-4d01-bdff-c23189e424d1",
   "metadata": {},
   "source": [
    "9. How do you make a function variable refer to the global variable?"
   ]
  },
  {
   "cell_type": "markdown",
   "id": "f7533550-c461-4d3a-861a-83ee4263c08b",
   "metadata": {},
   "source": [
    "In Python, if you want to make a function variable refer to a global variable, you can use the global keyword within the function. This informs Python that the variable you are using inside the function is a global variable, not a local one.\n",
    "\n",
    "Here's an example:"
   ]
  },
  {
   "cell_type": "code",
   "execution_count": 5,
   "id": "7510c598-9045-42e6-9f0b-832f91821aeb",
   "metadata": {},
   "outputs": [
    {
     "name": "stdout",
     "output_type": "stream",
     "text": [
      "Inside the function: I am a global variable\n",
      "Outside the function: I am a global variable\n"
     ]
    }
   ],
   "source": [
    "global_variable = \"I am a global variable\"\n",
    "\n",
    "def use_global_variable():\n",
    "    global global_variable  # Using the global keyword to reference the global variable\n",
    "    print(\"Inside the function:\", global_variable)\n",
    "\n",
    "use_global_variable()\n",
    "print(\"Outside the function:\", global_variable)\n"
   ]
  },
  {
   "cell_type": "markdown",
   "id": "8a3b31ff-18f5-4216-a1e3-7b29c5482b5b",
   "metadata": {},
   "source": [
    "In this example, the global_variable is defined outside the function, and within the function use_global_variable(), the global keyword is used to specify that the variable being referenced is the global one. Without the global keyword, if you try to modify the variable inside the function, a new local variable with the same name will be created instead.\n",
    "\n",
    "Please note that using global variables should be done judiciously, as it can make the code less modular and harder to understand. It's generally recommended to pass variables as parameters to functions or return values from functions, rather than relying heavily on global variables."
   ]
  },
  {
   "cell_type": "markdown",
   "id": "283a4d4a-4409-432e-b96c-6edcb686e56b",
   "metadata": {},
   "source": [
    "10. What is the data type of None?"
   ]
  },
  {
   "cell_type": "markdown",
   "id": "9f9f492f-f772-4bba-a353-6e8d876978ef",
   "metadata": {},
   "source": [
    "In Python, None is a special constant representing the absence of a value or a null value. It is often used to signify that a variable or a function doesn't have a meaningful result or that a variable has been initialized but not assigned a specific value.\n",
    "\n",
    "The data type of None is NoneType. You can check the type of a variable using the type() function:"
   ]
  },
  {
   "cell_type": "markdown",
   "id": "c8138f15-4de9-447f-acd4-90d1b675250a",
   "metadata": {},
   "source": [
    "11. What does the sentence import areallyourpetsnamederic do?"
   ]
  },
  {
   "cell_type": "markdown",
   "id": "41e8099c-91e9-4bb2-b11f-9e44d96b70f4",
   "metadata": {},
   "source": [
    "The sentence \"import areallyourpetsnamederic\" is a whimsical and non-standard import statement in Python. If you attempt to run this line of code, it would result in a ModuleNotFoundError because there is no standard Python module or third-party library with the name \"areallyourpetsnamederic.\"\n",
    "\n",
    "In Python, the import statement is used to bring in modules or packages that contain reusable code. These modules typically serve specific purposes and have meaningful names. The sentence you provided seems more like a humorous or fictional statement rather than a practical or functional import in Python."
   ]
  },
  {
   "cell_type": "markdown",
   "id": "1715dcbe-2790-4409-b436-31b55b6f60d9",
   "metadata": {},
   "source": [
    "12. If you had a bacon() feature in a spam module, what would you call it after importing spam?"
   ]
  },
  {
   "cell_type": "markdown",
   "id": "be58c375-5b6c-42a2-8281-2eba8ec2e622",
   "metadata": {},
   "source": [
    "After importing the spam module, you would call the bacon() function from the spam module using the following code:\n",
    "\n",
    "import spam\n",
    "\n",
    "spam.bacon()\n",
    "\n",
    "Here, import spam brings in the entire spam module, and then spam.bacon() calls the bacon() function that is part of the spam module. This syntax allows you to access and use the features (functions, variables, etc.) defined in the spam module in your code."
   ]
  },
  {
   "cell_type": "markdown",
   "id": "0bc3a33b-0a0c-4052-80b1-9a0dff0c5fba",
   "metadata": {},
   "source": [
    "13. What can you do to save a programme from crashing if it encounters an error?"
   ]
  },
  {
   "cell_type": "markdown",
   "id": "60f68fc1-fb85-452e-b84b-a05fc09c5d00",
   "metadata": {},
   "source": [
    "To prevent a program from crashing when encountering an error in Python:\n",
    "\n",
    "Use try-except blocks to handle potential exceptions.\n",
    "Wrap the code that might raise an exception inside a try block.\n",
    "Specify the type of exception(s) to catch in the corresponding except block.\n",
    "Implement error-handling logic within the except block to handle the exception gracefully.\n",
    "Optionally use an else block for code to execute if no exception occurs.\n",
    "Optionally use a finally block for code that always runs, with or without an exception.\n",
    "Utilize logging to record information about errors.\n",
    "Design the program for graceful degradation or provide alternative functionality when errors occur."
   ]
  },
  {
   "cell_type": "markdown",
   "id": "4bee12ba-75ec-4721-b156-5aa6453e6912",
   "metadata": {},
   "source": [
    "14. What is the purpose of the try clause? What is the purpose of the except clause?"
   ]
  },
  {
   "cell_type": "markdown",
   "id": "98e034a2-01f6-454b-80f8-bc97a7f24a45",
   "metadata": {},
   "source": [
    "Purpose of the Try Clause:\n",
    "\n",
    "The try clause is used to enclose a block of code that might raise an exception.\n",
    "The purpose of the try clause is to identify the section of code where exceptions may occur.\n",
    "If an exception occurs within the try block, the control flow is transferred to the corresponding except block."
   ]
  },
  {
   "cell_type": "code",
   "execution_count": 13,
   "id": "be8b837d-0abd-4e23-a488-c9d86ed92c28",
   "metadata": {},
   "outputs": [
    {
     "ename": "SyntaxError",
     "evalue": "invalid syntax (2802159546.py, line 3)",
     "output_type": "error",
     "traceback": [
      "\u001b[0;36m  Cell \u001b[0;32mIn [13], line 3\u001b[0;36m\u001b[0m\n\u001b[0;31m    except SomeSpecificException as e:\u001b[0m\n\u001b[0m    ^\u001b[0m\n\u001b[0;31mSyntaxError\u001b[0m\u001b[0;31m:\u001b[0m invalid syntax\n"
     ]
    }
   ],
   "source": [
    "Purpose of the Try Clause:\n",
    "\n",
    "The try clause is used to define a block of code where exceptions may occur.\n",
    "Its purpose is to identify and enclose the portion of the code that might raise an exception.\n",
    "Code within the try block is monitored for exceptions, and if an exception occurs, the control flow is transferred to the corresponding except block.\n",
    "python\n",
    "Copy code\n",
    "try:\n",
    "    # Code that might raise an exception\n",
    "Purpose of the Except Clause:\n",
    "\n",
    "The except clause is used to define a block of code that will be executed if a specified exception occurs within the associated try block.\n",
    "Its purpose is to handle exceptions and prevent the program from crashing.\n",
    "Multiple except blocks can be used to handle different types of exceptions.\n",
    "python\n",
    "Copy code\n",
    "except SomeSpecificException as e:\n",
    "    # Handle the exception for SomeSpecificException\n",
    "except AnotherException as e:\n",
    "    # Handle a different exception (AnotherException)\n",
    "else:\n",
    "    # Code to execute if no exception occurred\n",
    "finally:\n",
    "    # Code that always runs, with or without an exception\n",
    "In summary, the try clause identifies the code that might raise an exception, and the except clause defines how to handle those exceptions when they occur, preventing the program from crashing and allowing for graceful error handling.\n",
    "\n",
    "\n",
    "\n",
    "\n"
   ]
  },
  {
   "cell_type": "code",
   "execution_count": null,
   "id": "86b8d819-830e-4d5f-a20f-28c1fa4f6742",
   "metadata": {},
   "outputs": [],
   "source": []
  }
 ],
 "metadata": {
  "kernelspec": {
   "display_name": "Python 3 (ipykernel)",
   "language": "python",
   "name": "python3"
  },
  "language_info": {
   "codemirror_mode": {
    "name": "ipython",
    "version": 3
   },
   "file_extension": ".py",
   "mimetype": "text/x-python",
   "name": "python",
   "nbconvert_exporter": "python",
   "pygments_lexer": "ipython3",
   "version": "3.10.6"
  }
 },
 "nbformat": 4,
 "nbformat_minor": 5
}
